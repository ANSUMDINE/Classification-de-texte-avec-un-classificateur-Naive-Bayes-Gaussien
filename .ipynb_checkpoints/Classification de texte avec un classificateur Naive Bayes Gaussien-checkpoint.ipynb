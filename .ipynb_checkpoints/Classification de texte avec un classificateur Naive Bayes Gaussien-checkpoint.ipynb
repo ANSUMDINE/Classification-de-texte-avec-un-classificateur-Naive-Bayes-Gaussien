{
 "cells": [
  {
   "cell_type": "markdown",
   "id": "2f91f148-a0b6-47cf-95b1-5eb4df9c1e5e",
   "metadata": {},
   "source": [
    "# Introduction\n",
    "Les réseaux sociaux comme Twitter sont devenus des plateformes essentielles pour l'expression publique et la communication de masse.\n",
    "\n",
    "Cependant, les modèles de classification, tels que le classificateur Naive Bayes Gaussien, offrent une approche statistique efficace pour catégoriser les textes en fonction de leurs contenus. En utilisant les tweets extraits de Twitter, ce projet vise à mettre en œuvre un classificateur Naive Bayes Gaussien pour la classification des textes, en se concentrant sur les calculs de probabilité.\n",
    "\n",
    "Ainsi, la question centrale que ce projet cherche à aborder est la suivante : Comment mettre en œuvre un classificateur Naive Bayes Gaussien pour classifier automatiquement les tweets en catégories prédéfinies, tout en gérant les défis spécifiques liés à la nature des données textuelles de Twitter ?\n",
    "\n",
    "Pour répondre à cette question, ce projet sera structuré en plusieurs étapes clés :\n",
    "\n",
    "- Préparation des Données : Cette section portera sur le chargement des données de tweets, leur exploration initiale pour s'assurer qu'elles sont prêtes pour la modélisation.\n",
    "\n",
    "- Évaluation du Modèle : Cette partie du projet se concentrera sur l'évaluation des performances du modèle à l'aide de métriques telles que l'exactitude, la matrice de confusion et le rapport de classification, ainsi que sur l'interprétation des résultats.\n",
    "\n",
    "- Conclusion et Perspectives : Enfin, nous résumerons les principales conclusions du projet, discuterons des implications des résultats obtenus et proposerons des pistes d'amélioration et de recherche future.\n",
    "\n",
    "En suivant ces étapes, ce projet espère démontrer l'efficacité du classificateur Naive Bayes Gaussien pour la classification de texte, en particulier dans le contexte des tweets sur Twitter."
   ]
  },
  {
   "cell_type": "markdown",
   "id": "facc78e8-1d64-478b-a3f6-1b571b8a29c7",
   "metadata": {},
   "source": [
    "# Préparation des Données\n",
    "La préparation des données est une étape cruciale dans tout projet de machine learning. \n",
    "Elle permet de s'assurer que les données sont propres, cohérentes et prêtes à être utilisées pour l'entraînement des modèles. Les colonnes principales du fichier sont les suivantes :\n",
    "\n",
    "- Location\n",
    "\n",
    "- Tweet At\n",
    "\n",
    "- Original Tweet\n",
    "\n",
    "- Sentiments"
   ]
  },
  {
   "cell_type": "markdown",
   "id": "cc885710-0df4-4850-aa13-4147d35d543e",
   "metadata": {},
   "source": [
    "### Chargement des Données"
   ]
  },
  {
   "cell_type": "code",
   "execution_count": 1,
   "id": "011645b6-f854-43c2-bd93-35d5e1854ff2",
   "metadata": {},
   "outputs": [
    {
     "name": "stdout",
     "output_type": "stream",
     "text": [
      "   UserName  ScreenName             Location     TweetAt  \\\n",
      "0         1       44953                  NYC  02-03-2020   \n",
      "1         2       44954          Seattle, WA  02-03-2020   \n",
      "2         3       44955                  NaN  02-03-2020   \n",
      "3         4       44956          Chicagoland  02-03-2020   \n",
      "4         5       44957  Melbourne, Victoria  03-03-2020   \n",
      "\n",
      "                                       OriginalTweet           Sentiment  \n",
      "0  TRENDING: New Yorkers encounter empty supermar...  Extremely Negative  \n",
      "1  When I couldn't find hand sanitizer at Fred Me...            Positive  \n",
      "2  Find out how you can protect yourself and love...  Extremely Positive  \n",
      "3  #Panic buying hits #NewYork City as anxious sh...            Negative  \n",
      "4  #toiletpaper #dunnypaper #coronavirus #coronav...             Neutral  \n"
     ]
    }
   ],
   "source": [
    "import pandas as pd\n",
    "\n",
    "# Charger les données depuis le fichier CSV\n",
    "df = pd.read_csv('./Corona_NLP_test.csv')\n",
    "\n",
    "# Afficher les premières lignes pour vérifier les données\n",
    "print(df.head())"
   ]
  },
  {
   "cell_type": "markdown",
   "id": "868dafb6-eddc-413b-af29-864146b0147c",
   "metadata": {},
   "source": [
    "### Exploration Initiale"
   ]
  },
  {
   "cell_type": "code",
   "execution_count": 2,
   "id": "55bf0cea-2a8d-4f8c-8380-a5c82464e01d",
   "metadata": {},
   "outputs": [
    {
     "name": "stdout",
     "output_type": "stream",
     "text": [
      "<class 'pandas.core.frame.DataFrame'>\n",
      "RangeIndex: 3798 entries, 0 to 3797\n",
      "Data columns (total 6 columns):\n",
      " #   Column         Non-Null Count  Dtype \n",
      "---  ------         --------------  ----- \n",
      " 0   UserName       3798 non-null   int64 \n",
      " 1   ScreenName     3798 non-null   int64 \n",
      " 2   Location       2964 non-null   object\n",
      " 3   TweetAt        3798 non-null   object\n",
      " 4   OriginalTweet  3798 non-null   object\n",
      " 5   Sentiment      3798 non-null   object\n",
      "dtypes: int64(2), object(4)\n",
      "memory usage: 178.2+ KB\n",
      "None\n",
      "          UserName    ScreenName\n",
      "count  3798.000000   3798.000000\n",
      "mean   1899.500000  46851.500000\n",
      "std    1096.532489   1096.532489\n",
      "min       1.000000  44953.000000\n",
      "25%     950.250000  45902.250000\n",
      "50%    1899.500000  46851.500000\n",
      "75%    2848.750000  47800.750000\n",
      "max    3798.000000  48750.000000\n",
      "Valeurs uniques dans la colonne UserName:\n",
      "[   1    2    3 ... 3796 3797 3798]\n",
      "\n",
      "\n",
      "Valeurs uniques dans la colonne ScreenName:\n",
      "[44953 44954 44955 ... 48748 48749 48750]\n",
      "\n",
      "\n",
      "Valeurs uniques dans la colonne Location:\n",
      "['NYC' 'Seattle, WA' nan ... 'Israel ??' 'Farmington, NM' 'Haverford, PA']\n",
      "\n",
      "\n",
      "Valeurs uniques dans la colonne TweetAt:\n",
      "['02-03-2020' '03-03-2020' '04-03-2020' '05-03-2020' '06-03-2020'\n",
      " '07-03-2020' '08-03-2020' '09-03-2020' '10-03-2020' '11-03-2020'\n",
      " '12-03-2020' '13-03-2020' '14-03-2020' '15-03-2020' '16-03-2020']\n",
      "\n",
      "\n",
      "Valeurs uniques dans la colonne OriginalTweet:\n",
      "['TRENDING: New Yorkers encounter empty supermarket shelves (pictured, Wegmans in Brooklyn), sold-out online grocers (FoodKick, MaxDelivery) as #coronavirus-fearing shoppers stock up https://t.co/Gr76pcrLWh https://t.co/ivMKMsqdT1'\n",
      " \"When I couldn't find hand sanitizer at Fred Meyer, I turned to #Amazon. But $114.97 for a 2 pack of Purell??!!Check out how  #coronavirus concerns are driving up prices. https://t.co/ygbipBflMY\"\n",
      " 'Find out how you can protect yourself and loved ones from #coronavirus. ?'\n",
      " ...\n",
      " \"Asst Prof of Economics @cconces was on @NBCPhiladelphia talking about her recent research on coronavirus' impact on the economy. Watch it here (starting at :33): https://t.co/8tfYNoro5l\"\n",
      " \"Gov need to do somethings instead of biar je rakyat assume 'lockdown' ke or even worst. Harini semua supermarket crowded like hell. Lagi mudah virus tu tersebar ?? #COVID2019\"\n",
      " 'I and @ForestandPaper members are committed to the safety of our employees and our end-users. We are monitoring COVID-19. Rest assured that tissue manufacturers are continuing to produce and ship products.  https://t.co/qF6hclCAEq https://t.co/xyvbNsFeXA']\n",
      "\n",
      "\n",
      "Valeurs uniques dans la colonne Sentiment:\n",
      "['Extremely Negative' 'Positive' 'Extremely Positive' 'Negative' 'Neutral']\n",
      "\n",
      "\n"
     ]
    }
   ],
   "source": [
    "# Afficher des informations générales sur les données\n",
    "print(df.info())\n",
    "\n",
    "# Afficher des statistiques descriptives\n",
    "print(df.describe())\n",
    "\n",
    "# Vérifier les valeurs uniques de chaque colonne\n",
    "for column in df.columns:\n",
    "    print(f'Valeurs uniques dans la colonne {column}:')\n",
    "    print(df[column].unique())\n",
    "    print('\\n')"
   ]
  },
  {
   "cell_type": "markdown",
   "id": "ecd213cb-f82a-4188-8e4b-710cd7c1b62e",
   "metadata": {},
   "source": [
    "### Nettoyage des Données"
   ]
  },
  {
   "cell_type": "code",
   "execution_count": 3,
   "id": "3c7eb330-d24d-4dec-b608-3a6f411ffc14",
   "metadata": {},
   "outputs": [
    {
     "name": "stdout",
     "output_type": "stream",
     "text": [
      "UserName           0\n",
      "ScreenName         0\n",
      "Location         834\n",
      "TweetAt            0\n",
      "OriginalTweet      0\n",
      "Sentiment          0\n",
      "dtype: int64\n",
      "   UserName  ScreenName             Location     TweetAt  \\\n",
      "0         1       44953                  NYC  02-03-2020   \n",
      "1         2       44954          Seattle, WA  02-03-2020   \n",
      "2         3       44955              Unknown  02-03-2020   \n",
      "3         4       44956          Chicagoland  02-03-2020   \n",
      "4         5       44957  Melbourne, Victoria  03-03-2020   \n",
      "\n",
      "                                       OriginalTweet           Sentiment  \n",
      "0  TRENDING: New Yorkers encounter empty supermar...  Extremely Negative  \n",
      "1  When I couldn't find hand sanitizer at Fred Me...            Positive  \n",
      "2  Find out how you can protect yourself and love...  Extremely Positive  \n",
      "3  #Panic buying hits #NewYork City as anxious sh...            Negative  \n",
      "4  #toiletpaper #dunnypaper #coronavirus #coronav...             Neutral  \n"
     ]
    }
   ],
   "source": [
    "# Vérifier et traiter les valeurs manquantes\n",
    "print(df.isnull().sum())\n",
    "\n",
    "# Remplacer les valeurs manquantes (si nécessaire)\n",
    "df = df.fillna('Unknown')\n",
    "\n",
    "# Afficher les données nettoyées\n",
    "print(df.head())"
   ]
  },
  {
   "cell_type": "markdown",
   "id": "49301e23-1947-4f1d-a9ea-bb8ffd956c6c",
   "metadata": {},
   "source": [
    "### Vectorisation des Tweets"
   ]
  },
  {
   "cell_type": "code",
   "execution_count": 7,
   "id": "34d19d26-2480-4566-9881-9e435fded3a0",
   "metadata": {},
   "outputs": [
    {
     "name": "stdout",
     "output_type": "stream",
     "text": [
      "(3798, 13709)\n"
     ]
    }
   ],
   "source": [
    "from sklearn.feature_extraction.text import TfidfVectorizer\n",
    "\n",
    "# Séparer les caractéristiques (X) et la variable cible (y)\n",
    "X = df['OriginalTweet']\n",
    "y = df['Sentiment']\n",
    "\n",
    "# Vectoriser le texte\n",
    "vectorizer = TfidfVectorizer()\n",
    "X_vectorized = vectorizer.fit_transform(X).toarray()\n",
    "\n",
    "# Afficher la forme des données vectorisées pour vérifier\n",
    "print(X_vectorized.shape)\n"
   ]
  },
  {
   "cell_type": "markdown",
   "id": "4719e6c9-18ff-469c-8b83-dbd7af2f9fba",
   "metadata": {},
   "source": [
    "# Construction du modèle"
   ]
  },
  {
   "cell_type": "markdown",
   "id": "9a205dbe-18e8-406b-b644-3169c479c1ca",
   "metadata": {},
   "source": [
    "- Le classificateur Naive Bayes est basé sur le théorème de Bayes.\n",
    "- Il est particulièrement bien adapté aux tâches de classification de texte. \n",
    "- Il est appelé \"naive\" car il fait l'hypothèse d'indépendance conditionnelle entre les caractéristiques.\n",
    "- Cette hypothèse, bien que souvent simplifiée, permet de construire des modèles de classification efficaces et rapides."
   ]
  },
  {
   "cell_type": "markdown",
   "id": "f5d5c514-b524-4a88-8d4c-9b8a16be5f4c",
   "metadata": {},
   "source": [
    "### Calculs de Probabilité\n",
    "- Le théorème de Bayes nous donne la formule pour calculer la probabilité d'une classe donnée les caractéristiques observées :\n",
    "$$ P(C|X) = \\frac{P(X|C) \\cdot P(C)}{P(X)} $$\n",
    "- P(C|X) : Probabilité d'appartenance à la classe  C  donnée les caractéristiques  X\n",
    "- P(X|C) : Probabilité d'appartenance à la classe  X donnée les caractéristiques C\n",
    "- P(C)  : Probabilité a priori de la classe  C\n",
    "- P(X) : Probabilité a priori de la classe X"
   ]
  },
  {
   "cell_type": "markdown",
   "id": "b4a075a0-bbc9-4ec8-a781-82e8d1061657",
   "metadata": {},
   "source": [
    "### Fonction de Densité de Probabilité Gaussienne"
   ]
  },
  {
   "cell_type": "markdown",
   "id": "382cafa7-f209-4e2b-9a75-cadeb0069cc7",
   "metadata": {},
   "source": [
    "$$ P(x_i|C) = \\frac{1}{\\sqrt{2\\pi\\sigma_C^2}} \\exp\\left(-\\frac{(x_i - \\mu_C)^2}{2\\sigma_C^2}\\right) $$"
   ]
  },
  {
   "cell_type": "markdown",
   "id": "8a74e8e7-0dad-413f-9095-e3567077aa05",
   "metadata": {},
   "source": [
    "### Mise en Œuvre"
   ]
  },
  {
   "cell_type": "code",
   "execution_count": 11,
   "id": "58f2d51e-eea6-4a0d-9772-02dc403d767d",
   "metadata": {},
   "outputs": [],
   "source": [
    "# Importation des bibliothèques\n",
    "from sklearn.model_selection import train_test_split\n",
    "from sklearn.naive_bayes import GaussianNB\n",
    "from sklearn.metrics import accuracy_score, confusion_matrix, classification_report"
   ]
  },
  {
   "cell_type": "markdown",
   "id": "196cba26-b741-440d-b5c7-5008bb54ca02",
   "metadata": {},
   "source": [
    "#### Diviser les données en ensemble d'Entrainement et de test"
   ]
  },
  {
   "cell_type": "code",
   "execution_count": 13,
   "id": "d2a26980-5a5f-42ba-bb6c-28fae94dbfd0",
   "metadata": {},
   "outputs": [
    {
     "name": "stdout",
     "output_type": "stream",
     "text": [
      "(2658, 13709) (1140, 13709) (2658,) (1140,)\n"
     ]
    }
   ],
   "source": [
    "# Diviser les données en ensembles d'entraînement (70%) et de test (30%)\n",
    "X_train, X_test, y_train, y_test = train_test_split(X_vectorized, y, test_size=0.3, random_state=42)\n",
    "\n",
    "# Afficher la forme des ensembles d'entraînement et de test\n",
    "print(X_train.shape, X_test.shape, y_train.shape, y_test.shape)"
   ]
  },
  {
   "cell_type": "markdown",
   "id": "d62d06ca-1c50-4c41-854f-b3ccfb487590",
   "metadata": {},
   "source": [
    "#### construire et ajuster le modele"
   ]
  },
  {
   "cell_type": "code",
   "execution_count": 10,
   "id": "80aec0ea-35d1-4809-836b-ab0b46f156b9",
   "metadata": {},
   "outputs": [
    {
     "data": {
      "text/html": [
       "<style>#sk-container-id-1 {color: black;background-color: white;}#sk-container-id-1 pre{padding: 0;}#sk-container-id-1 div.sk-toggleable {background-color: white;}#sk-container-id-1 label.sk-toggleable__label {cursor: pointer;display: block;width: 100%;margin-bottom: 0;padding: 0.3em;box-sizing: border-box;text-align: center;}#sk-container-id-1 label.sk-toggleable__label-arrow:before {content: \"▸\";float: left;margin-right: 0.25em;color: #696969;}#sk-container-id-1 label.sk-toggleable__label-arrow:hover:before {color: black;}#sk-container-id-1 div.sk-estimator:hover label.sk-toggleable__label-arrow:before {color: black;}#sk-container-id-1 div.sk-toggleable__content {max-height: 0;max-width: 0;overflow: hidden;text-align: left;background-color: #f0f8ff;}#sk-container-id-1 div.sk-toggleable__content pre {margin: 0.2em;color: black;border-radius: 0.25em;background-color: #f0f8ff;}#sk-container-id-1 input.sk-toggleable__control:checked~div.sk-toggleable__content {max-height: 200px;max-width: 100%;overflow: auto;}#sk-container-id-1 input.sk-toggleable__control:checked~label.sk-toggleable__label-arrow:before {content: \"▾\";}#sk-container-id-1 div.sk-estimator input.sk-toggleable__control:checked~label.sk-toggleable__label {background-color: #d4ebff;}#sk-container-id-1 div.sk-label input.sk-toggleable__control:checked~label.sk-toggleable__label {background-color: #d4ebff;}#sk-container-id-1 input.sk-hidden--visually {border: 0;clip: rect(1px 1px 1px 1px);clip: rect(1px, 1px, 1px, 1px);height: 1px;margin: -1px;overflow: hidden;padding: 0;position: absolute;width: 1px;}#sk-container-id-1 div.sk-estimator {font-family: monospace;background-color: #f0f8ff;border: 1px dotted black;border-radius: 0.25em;box-sizing: border-box;margin-bottom: 0.5em;}#sk-container-id-1 div.sk-estimator:hover {background-color: #d4ebff;}#sk-container-id-1 div.sk-parallel-item::after {content: \"\";width: 100%;border-bottom: 1px solid gray;flex-grow: 1;}#sk-container-id-1 div.sk-label:hover label.sk-toggleable__label {background-color: #d4ebff;}#sk-container-id-1 div.sk-serial::before {content: \"\";position: absolute;border-left: 1px solid gray;box-sizing: border-box;top: 0;bottom: 0;left: 50%;z-index: 0;}#sk-container-id-1 div.sk-serial {display: flex;flex-direction: column;align-items: center;background-color: white;padding-right: 0.2em;padding-left: 0.2em;position: relative;}#sk-container-id-1 div.sk-item {position: relative;z-index: 1;}#sk-container-id-1 div.sk-parallel {display: flex;align-items: stretch;justify-content: center;background-color: white;position: relative;}#sk-container-id-1 div.sk-item::before, #sk-container-id-1 div.sk-parallel-item::before {content: \"\";position: absolute;border-left: 1px solid gray;box-sizing: border-box;top: 0;bottom: 0;left: 50%;z-index: -1;}#sk-container-id-1 div.sk-parallel-item {display: flex;flex-direction: column;z-index: 1;position: relative;background-color: white;}#sk-container-id-1 div.sk-parallel-item:first-child::after {align-self: flex-end;width: 50%;}#sk-container-id-1 div.sk-parallel-item:last-child::after {align-self: flex-start;width: 50%;}#sk-container-id-1 div.sk-parallel-item:only-child::after {width: 0;}#sk-container-id-1 div.sk-dashed-wrapped {border: 1px dashed gray;margin: 0 0.4em 0.5em 0.4em;box-sizing: border-box;padding-bottom: 0.4em;background-color: white;}#sk-container-id-1 div.sk-label label {font-family: monospace;font-weight: bold;display: inline-block;line-height: 1.2em;}#sk-container-id-1 div.sk-label-container {text-align: center;}#sk-container-id-1 div.sk-container {/* jupyter's `normalize.less` sets `[hidden] { display: none; }` but bootstrap.min.css set `[hidden] { display: none !important; }` so we also need the `!important` here to be able to override the default hidden behavior on the sphinx rendered scikit-learn.org. See: https://github.com/scikit-learn/scikit-learn/issues/21755 */display: inline-block !important;position: relative;}#sk-container-id-1 div.sk-text-repr-fallback {display: none;}</style><div id=\"sk-container-id-1\" class=\"sk-top-container\"><div class=\"sk-text-repr-fallback\"><pre>GaussianNB()</pre><b>In a Jupyter environment, please rerun this cell to show the HTML representation or trust the notebook. <br />On GitHub, the HTML representation is unable to render, please try loading this page with nbviewer.org.</b></div><div class=\"sk-container\" hidden><div class=\"sk-item\"><div class=\"sk-estimator sk-toggleable\"><input class=\"sk-toggleable__control sk-hidden--visually\" id=\"sk-estimator-id-1\" type=\"checkbox\" checked><label for=\"sk-estimator-id-1\" class=\"sk-toggleable__label sk-toggleable__label-arrow\">GaussianNB</label><div class=\"sk-toggleable__content\"><pre>GaussianNB()</pre></div></div></div></div></div>"
      ],
      "text/plain": [
       "GaussianNB()"
      ]
     },
     "execution_count": 10,
     "metadata": {},
     "output_type": "execute_result"
    }
   ],
   "source": [
    "# Instancier le classificateur Naive Bayes Gaussien\n",
    "gnb = GaussianNB()\n",
    "\n",
    "# Ajuster le modèle aux données d'entraînement\n",
    "gnb.fit(X_train, y_train)"
   ]
  },
  {
   "cell_type": "markdown",
   "id": "926ca30d-0df8-4aa2-9365-dbf87fb3d8e9",
   "metadata": {},
   "source": [
    "# Évaluation du Modèle"
   ]
  },
  {
   "cell_type": "markdown",
   "id": "a598173c-3833-4fd9-843d-3a34ffc81cc6",
   "metadata": {},
   "source": [
    "Nous allons évaluer les performances de notre classificateur Naive Bayes Gaussien en utilisant plusieurs métriques clés : \n",
    "- l'exactitude (accuracy) : mesure la proportion de prédictions correctes parmi l'ensemble des prédictions\n",
    "- la matrice de confusion : est un tableau qui permet de visualiser les performances du modèle en termes de prédictions correctes et incorrectes\n",
    "- le rapport de classification : fournit des métriques détaillées telles que la précision (precision), le rappel (recall) et le score F1 pour chaque classe"
   ]
  },
  {
   "cell_type": "code",
   "execution_count": 14,
   "id": "90a97048-003d-4c87-9844-492df0b96379",
   "metadata": {},
   "outputs": [
    {
     "name": "stdout",
     "output_type": "stream",
     "text": [
      "Accuracy: 0.28596491228070176\n",
      "Confusion Matrix:\n",
      "[[49 15 73  9 38]\n",
      " [13 43 50 10 76]\n",
      " [56 37 93 24 89]\n",
      " [32 22 39 64 36]\n",
      " [30 53 91 21 77]]\n",
      "Classification Report:\n",
      "                    precision    recall  f1-score   support\n",
      "\n",
      "Extremely Negative       0.27      0.27      0.27       184\n",
      "Extremely Positive       0.25      0.22      0.24       192\n",
      "          Negative       0.27      0.31      0.29       299\n",
      "           Neutral       0.50      0.33      0.40       193\n",
      "          Positive       0.24      0.28      0.26       272\n",
      "\n",
      "          accuracy                           0.29      1140\n",
      "         macro avg       0.31      0.28      0.29      1140\n",
      "      weighted avg       0.30      0.29      0.29      1140\n",
      "\n"
     ]
    }
   ],
   "source": [
    "# Faire des prédictions sur l'ensemble de test\n",
    "y_pred = gnb.predict(X_test)\n",
    "\n",
    "# Calculer l'exactitude du modèle\n",
    "accuracy = accuracy_score(y_test, y_pred)\n",
    "print(f'Accuracy: {accuracy}')\n",
    "\n",
    "# Afficher la matrice de confusion\n",
    "conf_matrix = confusion_matrix(y_test, y_pred)\n",
    "print('Confusion Matrix:')\n",
    "print(conf_matrix)\n",
    "\n",
    "# Afficher le rapport de classification\n",
    "class_report = classification_report(y_test, y_pred)\n",
    "print('Classification Report:')\n",
    "print(class_report)"
   ]
  },
  {
   "cell_type": "markdown",
   "id": "9150b89d-ca27-474e-b0f3-e668808435ce",
   "metadata": {},
   "source": [
    "#### Interprétation du Rapport de Classification"
   ]
  },
  {
   "cell_type": "markdown",
   "id": "a0d931e7-9e1a-4418-9ada-b67569d539ce",
   "metadata": {},
   "source": [
    "- Exactitude ( accuracy): L'exactitude globale du modèle est de 0.29 (ou 29 %), ce qui indique que le modèle n'est pas très performant. Cela signifie que seulement 29 % des prédictions du modèle sont correctes.\n",
    "- La matrice de confusion: La matrice de confusion nous donne une vue plus détaillée des prédictions correctes et incorrectes pour chaque classe :\r\n",
    "\r\n",
    "\t- Extrêmement Négatif : 49 vrais positifs, 15 faux négatifs, 73 faux positifs\r\n",
    "\r\n",
    "\t- Extrêmement Positif : 43 vrais positifs, 50 faux négatifs, 76 faux positifs\r\n",
    "\r\n",
    "\t- Négatif : 93 vrais positifs, 37 faux négatifs, 89 faux positifs\r\n",
    "\r\n",
    "\t- Neutre : 64 vrais positifs, 22 faux négatifs, 39 faux positifs\r\n",
    "\r\n",
    "\t- Positif : 77 vrais positifs, 53 faux négatifs, 91 fau\n",
    " - Rapport de Classification:\r\n",
    "\r\n",
    "\t- Précision : La précision pour la plupart des classes est inférieure à 0.30, à l'exception de la classe Neutre qui a une précision de 0.50. Cela signifie que le modèle a du mal à distinguer correctement entre les différentes classes.\r\n",
    "\r\n",
    "\t- Rappel : Le rappel pour la plupart des classes est également inférieur à 0.30, à l'exception de la classe Négatif (0.31) et Neutre (0.33). Un faible rappel indique que le modèle ne parvient pas à identifier correctement une proportion significative des instances positives pour chaque classe.\r\n",
    "\r\n",
    "\t- F1-Score : L'F1-score, qui est la moyenne harmonique de la précision et du rappel, est également faible pour toutes les classes, reflétant la performance globale médiocre du modèle.x positifs"
   ]
  },
  {
   "cell_type": "markdown",
   "id": "3f4961a3-c7b0-454d-b574-f14b2690bba6",
   "metadata": {},
   "source": [
    "#### Matrice de confusion"
   ]
  },
  {
   "cell_type": "code",
   "execution_count": 22,
   "id": "42cb9976-fe5e-4c08-8797-50fb6a3d037f",
   "metadata": {},
   "outputs": [
    {
     "data": {
      "image/png": "[encoded data removed]",
      "text/plain": [
       "<Figure size 1000x600 with 2 Axes>"
      ]
     },
     "metadata": {},
     "output_type": "display_data"
    }
   ],
   "source": [
    "from sklearn.metrics import confusion_matrix\n",
    "import seaborn as sns\n",
    "\n",
    "# Calculer la matrice de confusion\n",
    "conf_matrix = confusion_matrix(y_test, y_pred)\n",
    "\n",
    "# Tracer la matrice de confusion\n",
    "plt.figure(figsize=(10, 6))\n",
    "sns.heatmap(conf_matrix, annot=True, fmt='d', cmap='Blues', xticklabels=['Extrêmement Négatif', 'Extrêmement Positif', 'Négatif', 'Neutre', 'Positif'], yticklabels=['Extrêmement Négatif', 'Extrêmement Positif', 'Négatif', 'Neutre', 'Positif'])\n",
    "plt.xlabel('Predicted')\n",
    "plt.ylabel('Actual')\n",
    "plt.title('Confusion Matrix')\n",
    "plt.show()"
   ]
  },
  {
   "cell_type": "markdown",
   "id": "e8d932fb-bfb6-4f55-b451-42cb61e6b9f0",
   "metadata": {},
   "source": [
    "\n",
    "# Conclusion\n",
    "Les résultats montrent que le classificateur Naive Bayes Gaussien a des performances limitées sur ce jeu de données de tweets. Les faibles valeurs de précision, rappel et F1-score pour la plupart des classes indiquent que le modèle a du mal à généraliser correctement et fait beaucoup d'erreurs de classification.\n",
    "\n",
    "Pour améliorer les performances, vous pouvez envisager :\n",
    "\n",
    "D'expérimenter avec d'autres modèles de classification, tels que le Support Vector Machines (SVM), les modèles de forêt aléatoire ou les réseaux de neurones."
   ]
  },
  {
   "cell_type": "code",
   "execution_count": null,
   "id": "0b3d19e8-7630-4182-86bb-29153a7dced8",
   "metadata": {},
   "outputs": [],
   "source": []
  }
 ],
 "metadata": {
  "kernelspec": {
   "display_name": "Python 3 (ipykernel)",
   "language": "python",
   "name": "python3"
  },
  "language_info": {
   "codemirror_mode": {
    "name": "ipython",
    "version": 3
   },
   "file_extension": ".py",
   "mimetype": "text/x-python",
   "name": "python",
   "nbconvert_exporter": "python",
   "pygments_lexer": "ipython3",
   "version": "3.11.7"
  }
 },
 "nbformat": 4,
 "nbformat_minor": 5
}
